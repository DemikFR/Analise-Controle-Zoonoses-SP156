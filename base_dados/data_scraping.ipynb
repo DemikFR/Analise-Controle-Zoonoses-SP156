{
 "cells": [
  {
   "cell_type": "markdown",
   "id": "b47dbb0c",
   "metadata": {},
   "source": [
    "# Buscar os dados necessários para a análise"
   ]
  },
  {
   "cell_type": "markdown",
   "id": "abea7dd7",
   "metadata": {},
   "source": [
    "## Gerar o dataframe com os dados da Prefeitura"
   ]
  },
  {
   "cell_type": "code",
   "execution_count": 1,
   "id": "12edbb97",
   "metadata": {},
   "outputs": [],
   "source": [
    "import requests\n",
    "import pandas as pd\n",
    "from io import StringIO"
   ]
  },
  {
   "cell_type": "code",
   "execution_count": 2,
   "id": "9eddd929",
   "metadata": {},
   "outputs": [
    {
     "name": "stdout",
     "output_type": "stream",
     "text": [
      "O arquivo arquivofinal1sem2012.xlsx.csv foi inserido com sucesso.\n",
      "O arquivo arquivofinal2sem2012.xlsx.csv foi inserido com sucesso.\n",
      "O arquivo arquivofinal3sem2012.xlsx.csv foi inserido com sucesso.\n",
      "O arquivo arquivofinal4sem2012.xlsx.csv foi inserido com sucesso.\n",
      "O arquivo arquivofinal1sem2013.xlsx.csv foi inserido com sucesso.\n",
      "O arquivo arquivofinal2sem2013.xlsx.csv foi inserido com sucesso.\n",
      "O arquivo arquivofinal3sem2013.xlsx.csv foi inserido com sucesso.\n",
      "O arquivo arquivofinal4sem2013.xlsx.csv foi inserido com sucesso.\n",
      "O arquivo arquivofinal1sem2014.xlsx.csv foi inserido com sucesso.\n",
      "O arquivo arquivofinal2sem2014.xlsx.csv foi inserido com sucesso.\n",
      "O arquivo arquivofinal3sem2014.xlsx.csv foi inserido com sucesso.\n",
      "O arquivo arquivofinal4sem2014.xlsx.csv foi inserido com sucesso.\n",
      "O arquivo arquivofinal1sem2015.xlsx.csv foi inserido com sucesso.\n",
      "O arquivo arquivofinal2sem2015.xlsx.csv foi inserido com sucesso.\n",
      "O arquivo arquivofinal3sem2015.xlsx.csv foi inserido com sucesso.\n",
      "O arquivo arquivofinal4sem2015.xlsx.csv foi inserido com sucesso.\n",
      "O arquivo arquivofinal1sem2016.xlsx.csv foi inserido com sucesso.\n",
      "O arquivo arquivofinal2sem2016.xlsx.csv foi inserido com sucesso.\n",
      "O arquivo arquivofinal3sem2016.xlsx.csv foi inserido com sucesso.\n",
      "O arquivo arquivofinal4sem2016.xlsx.csv foi inserido com sucesso.\n",
      "O arquivo arquivofinal1sem2017.xlsx.csv foi inserido com sucesso.\n",
      "O arquivo arquivofinal2sem2017.xlsx.csv foi inserido com sucesso.\n",
      "O arquivo arquivofinal3sem2017.xlsx.csv foi inserido com sucesso.\n",
      "O arquivo arquivofinal4sem2017.xlsx.csv foi inserido com sucesso.\n",
      "O arquivo arquivofinal1sem2018.xlsx.csv foi inserido com sucesso.\n",
      "O arquivo arquivofinal2sem2018.xlsx.csv foi inserido com sucesso.\n",
      "O arquivo arquivofinal3sem2018.xlsx.csv foi inserido com sucesso.\n",
      "O arquivo arquivofinal4sem2018.xlsx.csv foi inserido com sucesso.\n",
      "O arquivo arquivofinal1sem2019.xlsx.csv foi inserido com sucesso.\n",
      "O arquivo arquivofinal2sem2019.xlsx.csv foi inserido com sucesso.\n",
      "O arquivo arquivofinal3sem2019.xlsx.csv foi inserido com sucesso.\n",
      "O arquivo arquivofinal4sem2019.xlsx.csv foi inserido com sucesso.\n",
      "O arquivo arquivofinal1sem2020.xlsx.csv foi inserido com sucesso.\n",
      "O arquivo arquivofinal2sem2020.xlsx.csv foi inserido com sucesso.\n",
      "O arquivo arquivofinal3sem2020.xlsx.csv foi inserido com sucesso.\n",
      "O arquivo arquivofinal4sem2020.xlsx.csv foi inserido com sucesso.\n",
      "O arquivo arquivofinal1sem2021.xlsx.csv foi inserido com sucesso.\n",
      "O arquivo arquivofinal2sem2021.xlsx.csv foi inserido com sucesso.\n",
      "O arquivo arquivofinal3sem2021.xlsx.csv foi inserido com sucesso.\n",
      "O arquivo arquivofinal4sem2021.xlsx.csv foi inserido com sucesso.\n",
      "O arquivo arquivofinal1sem2022.xlsx.csv foi inserido com sucesso.\n",
      "O arquivo arquivofinal2sem2022.xlsx.csv foi inserido com sucesso.\n",
      "O arquivo arquivofinal3sem2022.xlsx.csv foi inserido com sucesso.\n",
      "O arquivo arquivofinal4sem2022.xlsx.csv foi inserido com sucesso.\n"
     ]
    }
   ],
   "source": [
    "# Criar a tabela a ser usada para armazenar os dados\n",
    "df = pd.DataFrame(columns=['Data de abertura','Bairro','Distrito','Órgão','Canal de atendimento','Assunto'\n",
    "                           ,'Especificação do assunto','Status da solicitação','Data do parecer'])\n",
    "\n",
    "# Construir a URL do arquivo com base na estrutura prevista\n",
    "ano = 2012\n",
    "sem = 1\n",
    "while ano < 2023:\n",
    "    filename = f'arquivofinal{sem}sem{ano}.xlsx.csv'\n",
    "    url = f'http://dados.prefeitura.sp.gov.br/dataset/0aecfa2b-aa3a-40d4-8183-0d4351b7fd0a/resource/ecb2edb1-1a44-4ce0-8343-d4400b744b9e/download/{filename}'\n",
    "    \n",
    "    # Fazer uma solicitação GET para o URL\n",
    "    response = requests.get(url)\n",
    "    \n",
    "    # Verificar se a solicitação foi bem-sucedida (código de status 200 indica sucesso)\n",
    "    if response.status_code == 200:\n",
    "        # Escrever o conteúdo da resposta no dataframe \"df\"\n",
    "        df1 = pd.read_csv(StringIO(response.content.decode('utf-8')), sep=',')\n",
    "        df = pd.concat([df, df1], ignore_index=True)\n",
    "        print(f'O arquivo {filename} foi inserido com sucesso.')\n",
    "        \n",
    "        # Alterar as variáveis do arquivo\n",
    "        sem = (sem % 4) + 1\n",
    "        ano += sem == 1\n",
    "    else:\n",
    "        print('Falha ao tentar acessar os dados.')"
   ]
  },
  {
   "cell_type": "markdown",
   "id": "c8865f9f",
   "metadata": {},
   "source": [
    "## Manter apenas os dados e campos necessários"
   ]
  },
  {
   "cell_type": "code",
   "execution_count": 3,
   "id": "b1dc5648",
   "metadata": {},
   "outputs": [],
   "source": [
    "df = df[df['Assunto'].str.contains('Animais', regex=False)].reset_index(drop=True)"
   ]
  },
  {
   "cell_type": "code",
   "execution_count": 4,
   "id": "fe0574df",
   "metadata": {},
   "outputs": [],
   "source": [
    "df.drop(columns=['Distrito', 'Órgão', 'Canal de atendimento'], inplace=True)"
   ]
  },
  {
   "cell_type": "markdown",
   "id": "b280bed3",
   "metadata": {},
   "source": [
    "## Gerar o arquivo com os dados necessários"
   ]
  },
  {
   "cell_type": "code",
   "execution_count": 5,
   "id": "283b27b5",
   "metadata": {},
   "outputs": [],
   "source": [
    "df.to_csv('base_dados/sp156_all_time.csv', sep=';')"
   ]
  }
 ],
 "metadata": {
  "kernelspec": {
   "display_name": "Python 3 (ipykernel)",
   "language": "python",
   "name": "python3"
  },
  "language_info": {
   "codemirror_mode": {
    "name": "ipython",
    "version": 3
   },
   "file_extension": ".py",
   "mimetype": "text/x-python",
   "name": "python",
   "nbconvert_exporter": "python",
   "pygments_lexer": "ipython3",
   "version": "3.9.12"
  }
 },
 "nbformat": 4,
 "nbformat_minor": 5
}
